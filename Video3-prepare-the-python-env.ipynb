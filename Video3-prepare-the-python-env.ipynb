{
  "nbformat": 4,
  "nbformat_minor": 0,
  "metadata": {
    "colab": {
      "provenance": []
    },
    "kernelspec": {
      "name": "python3",
      "display_name": "Python 3"
    },
    "language_info": {
      "name": "python"
    }
  },
  "cells": [
    {
      "cell_type": "markdown",
      "source": [
        "## Download the required packages"
      ],
      "metadata": {
        "id": "QtV7DHOk_5Jk"
      }
    },
    {
      "cell_type": "code",
      "source": [
        "!pip install wget\n",
        "!pip install open3d\n",
        "!pip install pypotree "
      ],
      "metadata": {
        "id": "-i0W0v5vmQE8"
      },
      "execution_count": null,
      "outputs": []
    },
    {
      "cell_type": "markdown",
      "source": [
        "## Download the dataset"
      ],
      "metadata": {
        "id": "5Vo2wG5Y_mpm"
      }
    },
    {
      "cell_type": "code",
      "execution_count": null,
      "metadata": {
        "colab": {
          "base_uri": "https://localhost:8080/"
        },
        "id": "EcQ1d46Lf_c-",
        "outputId": "e55d81b5-f3a4-4595-da1b-f0884a616656"
      },
      "outputs": [
        {
          "output_type": "stream",
          "name": "stdout",
          "text": [
            "Mounted at /content/drive\n",
            "/content/drive/My Drive\n"
          ]
        }
      ],
      "source": [
        "# mount google drive\n",
        "import os\n",
        "import wget\n",
        "from google.colab import drive\n",
        "drive.mount('/content/drive', force_remount=False)\n",
        "%cd /content/drive/My Drive/"
      ]
    },
    {
      "cell_type": "code",
      "source": [
        "# Create download directory if it doesn't exist\n",
        "download_path = \"CameraLidarFusion\"\n",
        "if not os.path.exists(download_path):\n",
        "    os.makedirs(download_path)\n",
        "    print(download_path, \"- Created Successfully!\")\n",
        "else:\n",
        "    print(\"Folder already exists!\")"
      ],
      "metadata": {
        "colab": {
          "base_uri": "https://localhost:8080/"
        },
        "id": "GFrRx64Kgv7j",
        "outputId": "21b5cc82-d71f-4d74-cded-a7853a0c0a54"
      },
      "execution_count": null,
      "outputs": [
        {
          "output_type": "stream",
          "name": "stdout",
          "text": [
            "Folder already exists!\n"
          ]
        }
      ]
    },
    {
      "cell_type": "code",
      "source": [
        "# download the dataset\n",
        "dataset_url = \"https://s3.eu-central-1.amazonaws.com/avg-kitti/raw_data/2011_09_26_drive_0001/2011_09_26_drive_0001_sync.zip\"\n",
        "print('Downloading dataset zip file...')\n",
        "wget.download(dataset_url, out=download_path)"
      ],
      "metadata": {
        "colab": {
          "base_uri": "https://localhost:8080/",
          "height": 52
        },
        "id": "DErfv_tNiYIl",
        "outputId": "53ae277b-dcc6-4b60-d5bd-fbde7bc7ba57"
      },
      "execution_count": null,
      "outputs": [
        {
          "output_type": "stream",
          "name": "stdout",
          "text": [
            "Downloading dataset zip file...\n"
          ]
        },
        {
          "output_type": "execute_result",
          "data": {
            "text/plain": [
              "'CameraLidarFusion/2011_09_26_drive_0001_sync.zip'"
            ],
            "application/vnd.google.colaboratory.intrinsic+json": {
              "type": "string"
            }
          },
          "metadata": {},
          "execution_count": 4
        }
      ]
    },
    {
      "cell_type": "code",
      "source": [
        "# Unzip the dataset\n",
        "%cd CameraLidarFusion\n",
        "!unzip 2011_09_26_drive_0001_sync.zip &> /dev/null\n",
        "%cd /content/drive/MyDrive/CameraLidarFusion/2011_09_26/2011_09_26_drive_0001_sync"
      ],
      "metadata": {
        "id": "lOJfTj4kqBGo"
      },
      "execution_count": null,
      "outputs": []
    },
    {
      "cell_type": "markdown",
      "source": [
        "## Prepare and visualize the dataset"
      ],
      "metadata": {
        "id": "QrOXXVWgAJ3l"
      }
    },
    {
      "cell_type": "code",
      "source": [
        "import numpy as np\n",
        "import cv2\n",
        "import matplotlib.pyplot as plt\n",
        "import matplotlib.image as mpimg\n",
        "from IPython.display import Image\n",
        "import glob\n",
        "import numpy as np\n",
        "import struct\n",
        "import open3d as o3d"
      ],
      "metadata": {
        "id": "seRGf9FDq4OD"
      },
      "execution_count": null,
      "outputs": []
    },
    {
      "cell_type": "markdown",
      "source": [
        "### BIN TO PCD"
      ],
      "metadata": {
        "id": "rMKHHEIQAn-O"
      }
    },
    {
      "cell_type": "code",
      "source": [
        "# BinToPcd function\n",
        "def BinToPcd(point_file):\n",
        "  size_float = 4\n",
        "  list_pcd = []\n",
        "  file_to_open = point_file\n",
        "  file_to_save = str(point_file)[:-3]+\"pcd\"\n",
        "  with open (file_to_open, \"rb\") as f:\n",
        "      byte = f.read(size_float*4)\n",
        "      while byte:\n",
        "          x,y,z,intensity = struct.unpack(\"ffff\", byte)\n",
        "          list_pcd.append([x, y, z])\n",
        "          byte = f.read(size_float*4)\n",
        "  np_pcd = np.asarray(list_pcd)\n",
        "  pcd = o3d.geometry.PointCloud()\n",
        "  v3d = o3d.utility.Vector3dVector\n",
        "  pcd.points = v3d(np_pcd)\n",
        "  o3d.io.write_point_cloud(file_to_save, pcd)\n",
        "\n",
        "# Read bin files\n",
        "point_files = sorted(glob.glob(\"velodyne_points/data/*.bin\"))\n",
        "# Convert bin to PCD\n",
        "for binFile in point_files:\n",
        "  BinToPcd(binFile)"
      ],
      "metadata": {
        "id": "mMUmZGnKtAFO"
      },
      "execution_count": null,
      "outputs": []
    },
    {
      "cell_type": "markdown",
      "source": [
        "### Read images and pointcloud files"
      ],
      "metadata": {
        "id": "ja_x4Td0A1iu"
      }
    },
    {
      "cell_type": "code",
      "source": [
        "image_files = sorted(glob.glob(\"image_02/data/*.png\"))\n",
        "point_files = sorted(glob.glob(\"velodyne_points/data/*.pcd\"))\n",
        "index = 0\n",
        "pcd_file = point_files[index]\n",
        "image = cv2.cvtColor(cv2.imread(image_files[index]), cv2.COLOR_BGR2RGB)\n",
        "cloud = o3d.io.read_point_cloud(pcd_file)\n",
        "points= np.asarray(cloud.points)"
      ],
      "metadata": {
        "id": "oA5UlaArtk1E"
      },
      "execution_count": null,
      "outputs": []
    },
    {
      "cell_type": "code",
      "source": [
        "# read all the cameras data\n",
        "camera0_images = sorted(glob.glob(\"image_00/data/*.png\"))\n",
        "camera1_images = sorted(glob.glob(\"image_01/data/*.png\"))\n",
        "camera2_images = sorted(glob.glob(\"image_02/data/*.png\"))\n",
        "camera3_images = sorted(glob.glob(\"image_03/data/*.png\"))\n",
        "\n",
        "# Create 4 images for 4 cameras\n",
        "img_cam0 = cv2.cvtColor(cv2.imread(camera0_images[index]), cv2.COLOR_BGR2RGB)\n",
        "img_cam1 = cv2.cvtColor(cv2.imread(camera1_images[index]), cv2.COLOR_BGR2RGB)\n",
        "img_cam2 = cv2.cvtColor(cv2.imread(camera2_images[index]), cv2.COLOR_BGR2RGB)\n",
        "img_cam3 = cv2.cvtColor(cv2.imread(camera3_images[index]), cv2.COLOR_BGR2RGB)\n",
        "\n",
        "# Create a 2x2 grid of subplots\n",
        "fig, axs = plt.subplots(2, 2, figsize=(20, 7))\n",
        "\n",
        "# Set the first subplot to display the first image\n",
        "axs[0, 0].imshow(img_cam0)\n",
        "axs[0, 0].set_title('cam 0')\n",
        "\n",
        "# Set the second subplot to display the second image\n",
        "axs[0, 1].imshow(img_cam1)\n",
        "axs[0, 1].set_title('cam 1')\n",
        "\n",
        "# Set the third subplot to display the third image\n",
        "axs[1, 0].imshow(img_cam2)\n",
        "axs[1, 0].set_title('cam 2')\n",
        "\n",
        "# Set the fourth subplot to display the fourth image\n",
        "axs[1, 1].imshow(img_cam3)\n",
        "axs[1, 1].set_title('cam 3')\n",
        "\n",
        "# Show the plot\n",
        "plt.show()"
      ],
      "metadata": {
        "id": "4yyWI2_TXall"
      },
      "execution_count": null,
      "outputs": []
    },
    {
      "cell_type": "markdown",
      "source": [
        "### Visualize the images"
      ],
      "metadata": {
        "id": "3P_TGXpjBDJo"
      }
    },
    {
      "cell_type": "code",
      "source": [
        "f, (ax1) = plt.subplots(1, 1, figsize=(20,10))\n",
        "ax1.imshow(image)\n",
        "ax1.set_title('Image', fontsize=30)"
      ],
      "metadata": {
        "id": "JY1pcO3GvGAL"
      },
      "execution_count": null,
      "outputs": []
    },
    {
      "cell_type": "markdown",
      "source": [
        "### Visualize the pointcloud"
      ],
      "metadata": {
        "id": "DILiQ_iQBInx"
      }
    },
    {
      "cell_type": "code",
      "source": [
        "import pypotree \n",
        "cloudpath = pypotree.generate_cloud_for_display(points)\n",
        "pypotree.display_cloud_colab(cloudpath)"
      ],
      "metadata": {
        "id": "89_nmQa7vLB1"
      },
      "execution_count": null,
      "outputs": []
    }
  ]
}